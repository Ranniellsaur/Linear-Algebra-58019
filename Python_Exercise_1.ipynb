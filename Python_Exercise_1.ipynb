{
  "nbformat": 4,
  "nbformat_minor": 0,
  "metadata": {
    "colab": {
      "name": "Python Exercise 1.ipynb",
      "provenance": [],
      "authorship_tag": "ABX9TyOIOXKohqEpNfrS6526/erc",
      "include_colab_link": true
    },
    "kernelspec": {
      "name": "python3",
      "display_name": "Python 3"
    },
    "language_info": {
      "name": "python"
    }
  },
  "cells": [
    {
      "cell_type": "markdown",
      "metadata": {
        "id": "view-in-github",
        "colab_type": "text"
      },
      "source": [
        "<a href=\"https://colab.research.google.com/github/Ranniellsaur/Linear-Algebra-58019/blob/main/Python_Exercise_1.ipynb\" target=\"_parent\"><img src=\"https://colab.research.google.com/assets/colab-badge.svg\" alt=\"Open In Colab\"/></a>"
      ]
    },
    {
      "cell_type": "markdown",
      "metadata": {
        "id": "c0vQvDgvLoqM"
      },
      "source": [
        "#Matrix and Its Operations"
      ]
    },
    {
      "cell_type": "code",
      "metadata": {
        "colab": {
          "base_uri": "https://localhost:8080/"
        },
        "id": "5b0vFedWLpyL",
        "outputId": "67e88dd8-aa63-4094-fdb0-d10a790b5b0b"
      },
      "source": [
        "import numpy as np\n",
        "#Create a NumPy program that performs the operations of the given matrices:\n",
        "\n",
        "# sum = A +B\n",
        "# difference1 = A - B\n",
        "# difference2 = B - B\n",
        "\n",
        "A = np.array([-5,0,4,1])\n",
        "B = np.array([6,-3,2,3])\n",
        "\n",
        "sum = A + B\n",
        "print(sum)\n",
        "\n",
        "difference1 = A - B\n",
        "print(difference1)\n",
        "\n",
        "difference2 = B - B\n",
        "print(difference2)"
      ],
      "execution_count": 2,
      "outputs": [
        {
          "output_type": "stream",
          "name": "stdout",
          "text": [
            "[ 1 -3  6  4]\n",
            "[-11   3   2  -2]\n",
            "[0 0 0 0]\n"
          ]
        }
      ]
    }
  ]
}